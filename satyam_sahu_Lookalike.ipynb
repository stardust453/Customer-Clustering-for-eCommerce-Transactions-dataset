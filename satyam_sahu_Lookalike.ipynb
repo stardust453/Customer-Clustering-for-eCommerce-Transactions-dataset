{
  "nbformat": 4,
  "nbformat_minor": 0,
  "metadata": {
    "colab": {
      "provenance": [],
      "authorship_tag": "ABX9TyM2wuK7peg+JWpuvELz7ZHd",
      "include_colab_link": true
    },
    "kernelspec": {
      "name": "python3",
      "display_name": "Python 3"
    },
    "language_info": {
      "name": "python"
    }
  },
  "cells": [
    {
      "cell_type": "markdown",
      "metadata": {
        "id": "view-in-github",
        "colab_type": "text"
      },
      "source": [
        "<a href=\"https://colab.research.google.com/github/stardust453/Customer-Clustering-for-eCommerce-Transactions-dataset/blob/main/satyam_sahu_Lookalike.ipynb\" target=\"_parent\"><img src=\"https://colab.research.google.com/assets/colab-badge.svg\" alt=\"Open In Colab\"/></a>"
      ]
    },
    {
      "cell_type": "markdown",
      "source": [
        "#**Task 2: Lookalike Model**\n"
      ],
      "metadata": {
        "id": "c6ttUnAhzh68"
      }
    },
    {
      "cell_type": "code",
      "source": [
        "import pandas as pd\n",
        "from sklearn.preprocessing import StandardScaler\n",
        "from sklearn.metrics.pairwise import cosine_similarity\n"
      ],
      "metadata": {
        "id": "r8TYtS3sIXaD"
      },
      "execution_count": 82,
      "outputs": []
    },
    {
      "cell_type": "code",
      "source": [
        "# Step 3: Calculate Cosine Similarity\n",
        "# Create customer features based on merged data\n",
        "customers = pd.read_csv('Customers.csv')\n",
        "products = pd.read_csv('Products.csv')\n",
        "transactions = pd.read_csv('Transactions.csv')\n",
        "\n",
        "customers['SignupDate'] = pd.to_datetime(customers['SignupDate'])\n",
        "\n",
        "products['Price'] = pd.to_numeric(products['Price'])\n",
        "\n",
        "transactions['TransactionDate'] = pd.to_datetime(transactions['TransactionDate'])\n",
        "transactions['Quantity'] = pd.to_numeric(transactions['Quantity'])\n",
        "transactions['TotalValue'] = pd.to_numeric(transactions['TotalValue'])\n",
        "transactions['Price'] = pd.to_numeric(transactions['Price'])\n",
        "# Merge datasets\n",
        "merged_data = transactions.merge(customers, on='CustomerID', how='left')\n",
        "merged_data = merged_data.merge(products, on='ProductID', how='left')\n",
        "\n",
        "customer_features = merged_data.groupby('CustomerID').agg({\n",
        "    'Quantity': 'sum',\n",
        "    'TotalValue': 'sum',\n",
        "    'Region': 'first',  # Assuming Region is constant for each customer\n",
        "    'ProductID': 'nunique'  # Number of unique products purchased\n",
        "}).reset_index()\n"
      ],
      "metadata": {
        "id": "NWZ6zH8HGzRu"
      },
      "execution_count": 83,
      "outputs": []
    },
    {
      "cell_type": "code",
      "source": [
        "# One-hot encode the Region feature\n",
        "customer_features = pd.get_dummies(customer_features, columns=['Region'], drop_first=True)"
      ],
      "metadata": {
        "id": "jtWgrpcoJwSR"
      },
      "execution_count": 84,
      "outputs": []
    },
    {
      "cell_type": "code",
      "source": [
        "# Scale numerical features for similarity calculation\n",
        "scaler = StandardScaler()\n",
        "scaled_features = scaler.fit_transform(customer_features[['Quantity', 'TotalValue', 'ProductID']])"
      ],
      "metadata": {
        "id": "1M5QxDKUJx15"
      },
      "execution_count": 85,
      "outputs": []
    },
    {
      "cell_type": "code",
      "source": [
        "# Calculate cosine similarity matrix\n",
        "similarity_matrix = cosine_similarity(scaled_features)\n",
        "\n",
        "# Create a DataFrame for similarity scores\n",
        "similarity_df = pd.DataFrame(similarity_matrix, index=customer_features['CustomerID'], columns=customer_features['CustomerID'])\n"
      ],
      "metadata": {
        "id": "t16azmsQJ0Qw"
      },
      "execution_count": 86,
      "outputs": []
    },
    {
      "cell_type": "code",
      "source": [
        "# Step 4: Generate Lookalikes\n",
        "lookalike_results = {}\n",
        "\n",
        "for customer_id in customer_features['CustomerID'].head(20):  # For C0001 to C0020\n",
        "    # Get the similarity scores for the customer and sort them\n",
        "    similar_customers = similarity_df[customer_id].sort_values(ascending=False)\n",
        "\n",
        "    # Exclude the customer themselves and take the top 3 lookalikes\n",
        "    top_lookalikes = similar_customers[similar_customers.index != customer_id].head(3)\n",
        "\n",
        "    # Store the results in the dictionary\n",
        "    lookalike_results[customer_id] = list(zip(top_lookalikes.index, top_lookalikes.values))\n",
        "\n",
        "    # Convert results into a DataFrame for output\n",
        "lookalike_df = pd.DataFrame([(cust_id, lookalike[0], lookalike[1])\n",
        "                              for cust_id, lookalikes in lookalike_results.items()\n",
        "                              for lookalike in lookalikes],\n",
        "                             columns=['CustomerID', 'LookalikeID', 'SimilarityScore'])\n",
        "\n",
        "# Save to CSV file\n",
        "lookalike_df.to_csv('Lookalike.csv', index=False)\n",
        "\n",
        "print(\"Lookalike.csv has been created with top 3 lookalikes for each of the first 20 customers.\")"
      ],
      "metadata": {
        "colab": {
          "base_uri": "https://localhost:8080/"
        },
        "id": "5smPCLe-J1v3",
        "outputId": "e3791e22-e69d-4462-d854-400dcba1cb51"
      },
      "execution_count": 87,
      "outputs": [
        {
          "output_type": "stream",
          "name": "stdout",
          "text": [
            "Lookalike.csv has been created with top 3 lookalikes for each of the first 20 customers.\n"
          ]
        }
      ]
    },
    {
      "cell_type": "code",
      "source": [
        "lookalike_df = pd.read_csv('Lookalike.csv')"
      ],
      "metadata": {
        "id": "94yhqf7fLwMx"
      },
      "execution_count": 88,
      "outputs": []
    },
    {
      "cell_type": "code",
      "source": [
        "print(lookalike_df.head())\n",
        "print(lookalike_df.info())"
      ],
      "metadata": {
        "colab": {
          "base_uri": "https://localhost:8080/"
        },
        "id": "mE5Rqw_kLwK0",
        "outputId": "e499dd55-fdba-456a-b6c6-8a39f01ecbfa"
      },
      "execution_count": 89,
      "outputs": [
        {
          "output_type": "stream",
          "name": "stdout",
          "text": [
            "  CustomerID LookalikeID  SimilarityScore\n",
            "0      C0001       C0164         0.968410\n",
            "1      C0001       C0137         0.962081\n",
            "2      C0001       C0069         0.955071\n",
            "3      C0002       C0029         0.999762\n",
            "4      C0002       C0031         0.999013\n",
            "<class 'pandas.core.frame.DataFrame'>\n",
            "RangeIndex: 60 entries, 0 to 59\n",
            "Data columns (total 3 columns):\n",
            " #   Column           Non-Null Count  Dtype  \n",
            "---  ------           --------------  -----  \n",
            " 0   CustomerID       60 non-null     object \n",
            " 1   LookalikeID      60 non-null     object \n",
            " 2   SimilarityScore  60 non-null     float64\n",
            "dtypes: float64(1), object(2)\n",
            "memory usage: 1.5+ KB\n",
            "None\n"
          ]
        }
      ]
    },
    {
      "cell_type": "code",
      "source": [
        "similarity_stats = lookalike_df['SimilarityScore'].describe()\n",
        "print(\"Similarity Score Statistics:\")\n",
        "print(similarity_stats)"
      ],
      "metadata": {
        "colab": {
          "base_uri": "https://localhost:8080/"
        },
        "id": "RjSz5SuMLwIO",
        "outputId": "83885136-4417-404b-b0ce-552b22c8538e"
      },
      "execution_count": 90,
      "outputs": [
        {
          "output_type": "stream",
          "name": "stdout",
          "text": [
            "Similarity Score Statistics:\n",
            "count    60.000000\n",
            "mean      0.976968\n",
            "std       0.041732\n",
            "min       0.829717\n",
            "25%       0.975763\n",
            "50%       0.995351\n",
            "75%       0.999040\n",
            "max       0.999995\n",
            "Name: SimilarityScore, dtype: float64\n"
          ]
        }
      ]
    },
    {
      "cell_type": "code",
      "source": [
        "lookalike_counts = lookalike_df['CustomerID'].value_counts()\n",
        "print(\"\\nNumber of lookalikes per customer:\")\n",
        "print(lookalike_counts.describe())\n"
      ],
      "metadata": {
        "colab": {
          "base_uri": "https://localhost:8080/"
        },
        "id": "FPPn2ziWLwGD",
        "outputId": "11512dc3-6c8f-428c-de6d-981448f5c084"
      },
      "execution_count": 91,
      "outputs": [
        {
          "output_type": "stream",
          "name": "stdout",
          "text": [
            "\n",
            "Number of lookalikes per customer:\n",
            "count    20.0\n",
            "mean      3.0\n",
            "std       0.0\n",
            "min       3.0\n",
            "25%       3.0\n",
            "50%       3.0\n",
            "75%       3.0\n",
            "max       3.0\n",
            "Name: count, dtype: float64\n"
          ]
        }
      ]
    },
    {
      "cell_type": "code",
      "source": [
        "lookalike_overlap = lookalike_df['LookalikeID'].value_counts()\n",
        "print(\"\\nTop 10 most common lookalikes:\")\n",
        "print(lookalike_overlap.head(10))\n"
      ],
      "metadata": {
        "colab": {
          "base_uri": "https://localhost:8080/"
        },
        "id": "bmFIK-FPLv-E",
        "outputId": "c140a39a-b233-4d92-b07f-a704f85725df"
      },
      "execution_count": 92,
      "outputs": [
        {
          "output_type": "stream",
          "name": "stdout",
          "text": [
            "\n",
            "Top 10 most common lookalikes:\n",
            "LookalikeID\n",
            "C0029    2\n",
            "C0027    2\n",
            "C0058    2\n",
            "C0164    1\n",
            "C0152    1\n",
            "C0045    1\n",
            "C0087    1\n",
            "C0059    1\n",
            "C0141    1\n",
            "C0105    1\n",
            "Name: count, dtype: int64\n"
          ]
        }
      ]
    },
    {
      "cell_type": "code",
      "source": [
        "avg_similarity = lookalike_df.groupby('CustomerID')['SimilarityScore'].mean().sort_values(ascending=False)\n",
        "print(\"\\nTop 10 customers with highest average similarity scores:\")\n",
        "print(avg_similarity.head(10))\n"
      ],
      "metadata": {
        "colab": {
          "base_uri": "https://localhost:8080/"
        },
        "id": "3gt0OSypLv2H",
        "outputId": "c3c46fd1-ef1c-4075-f2b7-9e26fb4be551"
      },
      "execution_count": 93,
      "outputs": [
        {
          "output_type": "stream",
          "name": "stdout",
          "text": [
            "\n",
            "Top 10 customers with highest average similarity scores:\n",
            "CustomerID\n",
            "C0015    0.999891\n",
            "C0005    0.999731\n",
            "C0020    0.999565\n",
            "C0014    0.999552\n",
            "C0013    0.998282\n",
            "C0002    0.997443\n",
            "C0017    0.997188\n",
            "C0009    0.996789\n",
            "C0007    0.996412\n",
            "C0012    0.995999\n",
            "Name: SimilarityScore, dtype: float64\n"
          ]
        }
      ]
    },
    {
      "cell_type": "code",
      "source": [
        "# Load Lookalike.csv\n",
        "lookalike_df = pd.read_csv('Lookalike.csv')\n",
        "\n",
        "# Calculate mean and standard deviation of similarity scores\n",
        "mean_similarity = lookalike_df['SimilarityScore'].mean()\n",
        "std_similarity = lookalike_df['SimilarityScore'].std()\n",
        "\n",
        "print(f\"Mean Similarity Score: {mean_similarity:.4f}\")\n",
        "print(f\"Standard Deviation of Similarity Scores: {std_similarity:.4f}\")"
      ],
      "metadata": {
        "colab": {
          "base_uri": "https://localhost:8080/"
        },
        "id": "OwMfETikMagw",
        "outputId": "ed17f303-f23d-4589-ed11-233957a0a946"
      },
      "execution_count": 94,
      "outputs": [
        {
          "output_type": "stream",
          "name": "stdout",
          "text": [
            "Mean Similarity Score: 0.9770\n",
            "Standard Deviation of Similarity Scores: 0.0417\n"
          ]
        }
      ]
    },
    {
      "cell_type": "code",
      "source": [
        "import matplotlib.pyplot as plt\n",
        "import seaborn as sns\n",
        "\n",
        "# Create a histogram of similarity scores\n",
        "plt.figure(figsize=(10, 6))\n",
        "sns.histplot(lookalike_df['SimilarityScore'], kde=True, bins=20)\n",
        "plt.title('Distribution of Similarity Scores')\n",
        "plt.xlabel('Similarity Score')\n",
        "plt.ylabel('Frequency')\n",
        "plt.show()\n"
      ],
      "metadata": {
        "colab": {
          "base_uri": "https://localhost:8080/",
          "height": 564
        },
        "id": "m9wpfSJ3Maa3",
        "outputId": "d83cfec0-8afb-4842-e80d-55a919718f8b"
      },
      "execution_count": 99,
      "outputs": [
        {
          "output_type": "display_data",
          "data": {
            "text/plain": [
              "<Figure size 1000x600 with 1 Axes>"
            ],
            "image/png": "[encoded data removed]"
          },
          "metadata": {}
        }
      ]
    },
    {
      "cell_type": "code",
      "source": [
        "recommendation_counts = lookalike_df['CustomerID'].value_counts()\n",
        "\n",
        "# Check if all customers have exactly 3 recommendations\n",
        "consistent_recommendations = recommendation_counts.eq(3).all()\n",
        "\n",
        "print(f\"All customers have exactly 3 recommendations: {consistent_recommendations}\")\n"
      ],
      "metadata": {
        "colab": {
          "base_uri": "https://localhost:8080/"
        },
        "id": "etl3VtyCMaYs",
        "outputId": "753aeab3-8d37-447b-af4f-8d51b58aaf64"
      },
      "execution_count": 96,
      "outputs": [
        {
          "output_type": "stream",
          "name": "stdout",
          "text": [
            "All customers have exactly 3 recommendations: True\n"
          ]
        }
      ]
    },
    {
      "cell_type": "code",
      "source": [
        "unique_lookalikes = lookalike_df['LookalikeID'].nunique()\n",
        "total_customers = lookalike_df['CustomerID'].nunique()\n",
        "diversity_ratio = unique_lookalikes / total_customers\n",
        "\n",
        "print(f\"Number of Unique Lookalikes: {unique_lookalikes}\")\n",
        "print(f\"Diversity Ratio: {diversity_ratio:.2f}\")\n"
      ],
      "metadata": {
        "colab": {
          "base_uri": "https://localhost:8080/"
        },
        "id": "zXC7BpBLMaWi",
        "outputId": "02380075-b641-4dce-c97f-3d4dd6fc03ba"
      },
      "execution_count": 97,
      "outputs": [
        {
          "output_type": "stream",
          "name": "stdout",
          "text": [
            "Number of Unique Lookalikes: 57\n",
            "Diversity Ratio: 2.85\n"
          ]
        }
      ]
    },
    {
      "source": [
        "# Merge Lookalike.csv with customer features for analysis\n",
        "merged_lookalikes = lookalike_df.merge(merged_data[['CustomerID', 'TotalValue', 'Quantity']],\n",
        "                                       left_on='LookalikeID', right_on='CustomerID', suffixes=('', '_Lookalike'))\n",
        "\n",
        "# Calculate average feature values for lookalikes\n",
        "# Access the correct column names after the merge\n",
        "avg_features_lookalikes = merged_lookalikes.groupby('CustomerID')[['TotalValue', 'Quantity']].mean()\n",
        "\n",
        "# Compare with input customer features\n",
        "input_features = merged_data.set_index('CustomerID')[['TotalValue', 'Quantity']]\n",
        "comparison = input_features.join(avg_features_lookalikes, rsuffix='_Lookalike') # Use rsuffix to add suffix to the right DataFrame\n",
        "\n",
        "print(comparison.head())"
      ],
      "cell_type": "code",
      "metadata": {
        "colab": {
          "base_uri": "https://localhost:8080/"
        },
        "id": "bgJ5f6IVQXja",
        "outputId": "87e01df8-9809-4e4a-8bdb-8470b3a9941b"
      },
      "execution_count": 98,
      "outputs": [
        {
          "output_type": "stream",
          "name": "stdout",
          "text": [
            "            TotalValue  Quantity  TotalValue_Lookalike  Quantity_Lookalike\n",
            "CustomerID                                                                \n",
            "C0199           300.68         1                   NaN                 NaN\n",
            "C0146           300.68         1                   NaN                 NaN\n",
            "C0127           300.68         1                   NaN                 NaN\n",
            "C0087           601.36         2                   NaN                 NaN\n",
            "C0070           902.04         3                   NaN                 NaN\n"
          ]
        }
      ]
    }
  ]
}